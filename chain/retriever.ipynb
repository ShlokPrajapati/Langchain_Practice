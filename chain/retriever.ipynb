{
 "cells": [
  {
   "cell_type": "markdown",
   "metadata": {},
   "source": [
    "## Retriever And Chain With Langchain"
   ]
  },
  {
   "cell_type": "code",
   "execution_count": 13,
   "metadata": {},
   "outputs": [
    {
     "data": {
      "text/plain": [
       "[Document(metadata={'source': 'tourism.pdf', 'page': 0, 'page_label': '1'}, page_content='MODULE – 4\\n 69\\nNatural Tourist Attractions in India\\nTOURISM\\nNatural Diversity as\\nTourist Attraction\\nNotes\\n12\\nNATURAL TOURIST\\nATTRACTIONS IN INDIA\\nIndia is a vast country with immense geographical and cultural diversity. The\\ndiversity varies from the Himalayan Mountain in north to coasts in the south\\nand from Thar Desert of Rajasthan in the west to the humid forests of the North-\\nEast. Even the climatic conditions vary from the equatorial in the south to the\\npolar region in the higher slope of northern mountain. This rich diversity is bound\\nto create many natural attractions for the tourists visiting these places. The\\npeople from plain and Southern India would like to visit the Himalayan hill\\nstations in search of a cool climate during summer. Similarly, people from the\\nnorth would like to see the coastal areas. This plays a great role in providing\\nopportunities for the development of tourism in the country. Each geographical\\nregion has its own beauty. Life has become very hectic and mechanical. People\\nnow prefer to go back to nature to refresh themselves. Natural beauty is now\\nvery much in demand not only by domestic tourists but also international\\ntourists. In this lesson we shall read about India’s geographical features and\\nappreciate what it has to offer to tourists to see, enjoy and appreciate.\\nOBJECTIVES\\nAfter studying this lesson, you will be able to:\\nz describe the physical features of India;\\nz explain distribution of tourist places in India;\\nz identify the natural attractions of tourist regions popular with the WildLife;\\nz describe the different Bird Sanctuaries in India and\\nz illustrate the various hill stations in India.\\n'),\n",
       " Document(metadata={'source': 'tourism.pdf', 'page': 1, 'page_label': '2'}, page_content='TOURISM\\nMODULE – 4 Natural Tourist Attractions in India\\n 70\\nNatural Diversity as\\nTourist Attraction\\nNotes\\n12.1 PHYSICAL FEATURES OF INDIA\\nThe physical features of India refer to the physical appearance of the country\\nin terms of altitude, geological history, formation and geographical characteristics.\\nBased on this criterion, India can be divided into four major regions (Fig. 12.1):\\n1. The Northern Mountains Regions\\n2. The Great Northern Plains\\n3. The Peninsular Plateau\\n4. The Coastal Plains and Islands.\\n12.1.1 The Northern Mountains\\nThe Northern boundary of the country is formed by the mountain system of the\\nHimalayas. It stretches from Jammu and Kashmir in the Northwest to the hill\\nranges of Purvanchal in the East. The literal meaning of the Himalaya\\n(Him+Aalay) is the abode of snow. It is one of the youngest fold mountains\\nof the world, rising to over 8000 meter above mean sea level. Being the highest\\nmountain system of the world, it also has the highest peak of the world.\\nHimalayas can be divided into mainly three parallel ranges running from West\\nto East direction:\\na. Greater Himalaya or the Himadri\\nb. Lesser Himalaya or the Himachal\\nc. Outer Himalaya or the Siwalik\\nGreater Himalaya or the Himadri: It is the northern most range with an\\naverage height of 6000 meter AMSL. Its width varies between 90 km to 120\\nkm. The greatest peak of the world, the Mt. Everest, 8848 meter (Nepal) is\\nin this range. The great peaks in Indian Territory are Kanchenjunga (8598 meter),\\nMakalu (8481 meter), Dhaulagiri (8172 meter), Manaslu (8156 meter), Nanda\\nDevi (7817 meter) etc. Many of the high mountain passes like Bara Lacha La,\\nShipkila, Thangla La, Nathula, Zojla etc. are located in this region of the\\nHimalaya. This area is also very much in demand for adventure tourism activities\\nlike rockclimbing, trekking, and watching the natural beauty of the region.\\nLesser Himalaya or the Himachal: This range runs almost parallel and to the\\nsouth of the Himadri. Its altitude varies from 1800 to 3000 meter and its width\\nis 60 to 80 km. The Dhauladhar, the Pirpanjal, Mahabharat Range and Mussoorie\\nRange are included in this section. It is a complex mosaic of forest covered by\\nranges and fertile valleys. There are many hill stations like Shimla, Kullu, Manali,\\nDharamshala, Chail, Chakrata, Mussoorie, Nainital, Almora, Ranikhet, and\\nDarjeeling besides many others in this region.'),\n",
       " Document(metadata={'source': 'tourism.pdf', 'page': 2, 'page_label': '3'}, page_content='MODULE – 4\\n 71\\nNatural Tourist Attractions in India\\nTOURISM\\nNatural Diversity as\\nTourist Attraction\\nNotes\\nFigure 12.1: Physical Features of India\\nThe British rulers in India developed some of these hill stations to escape the\\nheat of the summer seasons. These hill stations are very much in demand even\\ntoday, particularly in the summer season, to get respite from the scorching heat\\nof the sun in the plains and plateau region of the country.\\nOuter Himalaya or the Siwalik: They are the southern most range of the\\nmountains and are popularly known as the foothills of the Himalayas. Its altitude\\nvaries from 900 to 1500 meter and its width from 15 to 50 km. They are the\\nnewly formed ranges of the Himalayas. To the south of this range are the great\\nplains of North India. The adjoining land between plains and the mountains is\\nknown as the Terai region. It has very dense vegetation which is deciduous in\\nnature and is characterized by many long, flat-bottomed valleys known as Duns,\\nfor example Dehra Dun.'),\n",
       " Document(metadata={'source': 'tourism.pdf', 'page': 3, 'page_label': '4'}, page_content='TOURISM\\nMODULE – 4 Natural Tourist Attractions in India\\n 72\\nNatural Diversity as\\nTourist Attraction\\nNotes\\n12.1.2 The Northern Plains\\nThe Great Northern Plains are placed between the Himalayas in the north to\\nPeninsular Plateau in the south. It extends from the western boundary of the\\ncountry from Punjab and Rajasthan to the Ganges delta and the Brahmaputra\\nplain in the East. It has three main river systems namely the Indus, the Ganges\\nand the Brahmaputra. It is almost 2400 km in length from west to east. Its width\\nvaries from 200 km in Bihar to about 500 km in Punjab and Rajasthan. One\\nof the most important characteristics of the Great Northern Plains has been the\\nrise of many religions as well as being the center of civilization since time\\nimmemorial. Many of the religions, Hinduism, Sikhism, Buddhism and Jainism\\nhave evolved from this area. There are many cultural and religious centers in\\nthe plains, which have emerged as the centers of tourism for foreign as well\\nas domestic tourists. Almost the entire region is famous for various kinds of\\nattractions for tourists. These are religious places, heritage sites and historical\\nmonuments etc. about which you will read in different lessons in this course\\nof Tourism. In fact they are the driving force for growing tourism in the plains\\nof the country.\\n12.1.3 The Peninsular Plateau\\nThe Peninsula Plateau is located to the south of the Great Northern Plains. It\\nis surrounded by seas from three sides. It is one of the oldest land features of\\nworld. The Narmada river divides this peninsula into two parts. The Central\\nHighland is north of the Narmada river and the Deccan Plateau lying to the South\\nof this river.\\nThe Central Highland: It is very important for the availability of minerals and\\nfossil fuels like coal. Varieties of minerals like iron-ore, bauxite, copper,\\nmanganese, lead, zinc, coal, mica, nickel etc. are found in abundance. These\\nminerals are the backbone for industrial development. Many of them are very\\nessential for the development of infrastructures. The area offers great employment\\nopportunity to the people as well as tourism.\\nThe Deccan Plateau:  It covers an area of about 7 lakh sq. km. Its Northern\\nboundary is along the Satpura Range, Mahadev Hills and Rajmahal Hills.\\nTogether they form the base of the triangular shape of the Deccan Plateau. Its\\ntwo sides run along the Western Ghats and Eastern Ghats and converge at the\\nsouthern tip of the Peninsula. It stretches over Madhya Pradesh, Maharashtra,\\nKarnataka, Andhra Pradesh, Tamil Nadu and Kerala. Many of the east flowing\\nrivers originate from the Western Ghats and drain downwards to the east because\\nit slopes towards the eastern side. The Plateau can be divided into three distinct'),\n",
       " Document(metadata={'source': 'tourism.pdf', 'page': 4, 'page_label': '5'}, page_content='MODULE – 4\\n 73\\nNatural Tourist Attractions in India\\nTOURISM\\nNatural Diversity as\\nTourist Attraction\\nNotes\\nzones, namely the Deccan Trap, also known as the area of black cotton soil,\\nthe Western Ghats and the Eastern Ghats.\\nWestern Ghats is one of the world’s top ten “Biodiversity Hotspots”. The hot\\nspot includes many national parks, wildlife sanctuaries, biosphere reserve and\\nreserve forests. Many of them are designated as the heritage sites. The hill-\\nstations and heritage sites are in good demand for tourists. There are many\\ntunnels in the way. They provide beautiful picturesque scenic beauty with\\nnumerous waterfalls. They provide connectivity through road and railways. They\\nplay an important role in promoting tourism by reducing the time, distance and\\nmoney of the tourists.\\nThe Eastern Ghats are a discontinuous mountain range along the eastern coast\\nof India. The Nimaigiri hills of Koraput and Mahendragiri hills of Ganjam\\ndistricts of Odisha attain a height of about 1500 meter. These hills are thickly\\nforested. Udagamandalam (Ooty), situated in Nilgiri Hills, is a very favoured\\nhill station of South India. The southern parts of these broken ranges are lower\\nin height. The southern part of this culminates in the form of a tip, joining both\\nthe Ghats – Western and Eastern.\\n12.1.4 The Coastal Plains and Islands\\nThe Coastal Plains of India are found on both coasts – eastern and western.\\nWestern Coastal Plain is confined between the Western Ghats and the Arabian\\nSea. It starts from the Rann of Kutch in Gujarat in the North to Kanyakumari\\nin the South. Several cascading waterfalls may be observed which attract tourists\\nfrom various regions. This plain is simply divided into three.\\nThe northern plain is known as Konkan Plain, the middle one as Kannad Plain\\nand the southernmost as Malabar Plain. There are a number of long and narrow\\nlagoons and backwaters e.g. V embanad which is very famous in Kerala.\\nThe Eastern Coastal Plains are located between the Eastern Ghats and the Bay\\nof Bengal, starting from the southern part of the Gangatic Delta to Kanyakumari.\\nNear Kanyakumari both plains – Eastern and Western meet and converge into\\none. This plain is about 120 km wide. These plains are very rich in soil fertility,\\nproducing abundance of rice. There are many rivers draining through this plain\\ncreating delta at their mouths. There are many lagoons formed along this coast\\nand they are the center of attractions for the tourists. Chilka, Pulikat and Kolusu\\nlakes are famous which attract tourists in great number.\\nThere are two groups of Islands. All together there are 247 islands with India.\\nThey are scattered into two groups - Andaman and Nicobar Group and\\nLakshadweep Group. There are 222 islands in the Bay of Bengal and remaining'),\n",
       " Document(metadata={'source': 'tourism.pdf', 'page': 5, 'page_label': '6'}, page_content='TOURISM\\nMODULE – 4 Natural Tourist Attractions in India\\n 74\\nNatural Diversity as\\nTourist Attraction\\nNotes\\n25 islands are in the Arabian Sea. Both groups of islands are quite different in\\nterms of their formation.\\nThe islands in the Arabian Sea are mostly made up of coral deposits, hence,\\nknown as coral islands. The islands of the Bay of Bengal are basically made\\nup due to tectonic activities, related to the formation of the Tertiary Mountain\\nsystem. If one sees the extension of the Himalayas from Northeastern States\\nfurther down towards the Bay of Bengal, it appears that it is the Himalayan\\norogeny. The islands are very special particularly from the point of view of\\ntourism.\\nACTIVITY 12.1\\nTake an outline map of India and show different physiographic regions of the\\ncountry. Locate your position on the map. Write the characteristics of the area\\nwhere you are living, in terms of physiography. Write an account of the tourism\\nactivities in your area. If the tourism activities are not found in your areas,\\nprepare a list of reasons for it.\\nINTEXT QUESTIONS 12.1\\n1. Write any three characteristics of the Deccan Plateau.\\n2. Which of the Ghats is the Biodiversity Hotspots in India?\\n3. Differentiate the Andaman Nicobar Islands and the Lakshadweep Islands.\\n12.2 DISTRIBUTION OF TOURISTS PLACES IN INDIA\\nAlmost the whole of India has many attractions for tourists both natural and\\ncultural. Therefore, tourist centers are distributed throughout the country. These\\nattractions are very closely associated with certain types of physiographic\\nregions of the country. For examples, hill-stations are on the hills and mountains\\nwhich offer cool climatic conditions. The mountainous region offers adventure\\ntourism such as rock climbing, trekking angling, parachuting, rafting etc.\\nHimalayan rivers provide the base for white water rafting in the Ganga, the\\nAlaknanda, Chenab, the Beas etc. The beaches are found along the sea coasts.\\nThe combination of sea, sand and sun is very attractive for tourists such as\\nKovalam the world famous beach in Kerala. Many areas are full of forests. They\\nhave a number of National Parks, Wildlife Sanctuaries; protected forests which\\nare charming for some tourists. Religious faith of the people is a great attraction'),\n",
       " Document(metadata={'source': 'tourism.pdf', 'page': 6, 'page_label': '7'}, page_content='MODULE – 4\\n 75\\nNatural Tourist Attractions in India\\nTOURISM\\nNatural Diversity as\\nTourist Attraction\\nNotes\\nfor many of the tourists. Hence, those places are also much sought after by the\\npeople. Some important places for tourists are shown in the Figure 12.2.\\nFigure 12.2: Major Tourist Destinations in India\\n12.2.1 Major Tourist Circuits\\nThere are several tourist centers in India, but some of them are more in demand\\nin comparison to others. Hence, certain special arrangements are provided to\\nfacilitate the tourists to visit these circuits without much difficulty.'),\n",
       " Document(metadata={'source': 'tourism.pdf', 'page': 7, 'page_label': '8'}, page_content='TOURISM\\nMODULE – 4 Natural Tourist Attractions in India\\n 76\\nNatural Diversity as\\nTourist Attraction\\nNotes\\nIt is also kept in mind that it should be easy and quick to move with comfort\\nand economy. For this purpose, many tourist circuit routes have been developed\\nby the tour operators depending upon the demand from the tourists. Some of\\nthe important among them are:\\n1. Delhi – Agra – FatehpurSikri – Jaipur – Delhi.\\n2. Gwalior – Khajuraho – Bhopal – Gwalior.\\n3. Sarnath – Kusinagar – Bodh Gaya – Sarnath.\\n4. Bhubaneshwar – Konark – Puri – Chilka –Bhubaneshwar.\\nAnd many more are in operation. We can get the details regarding the location\\nand routes of transits circuits from Fig. 12.3.\\nFigure 12.3: Major Tourist Circuits in India.'),\n",
       " Document(metadata={'source': 'tourism.pdf', 'page': 8, 'page_label': '9'}, page_content='MODULE – 4\\n 77\\nNatural Tourist Attractions in India\\nTOURISM\\nNatural Diversity as\\nTourist Attraction\\nNotes\\n12.3.2 Hill-Stations\\nHill-stations are located on the hill and mountain slopes (Fig. 12.4). They are\\ncool even in the summer season. This is because of the height. With increasing\\nheight of 165 meter, temperature decreases by 1°C. It happens because the air\\nis sparse at higher altitude. Sun’s radiation reaches the surface first. Land surface\\nis warmed up and the surface radiates the heat in the form of long waves. Thus,\\nthe air is warmed up. Since the air is less dense and sparse, the effectiveness\\nof the sun’s heat is less. That is the reason why places lying over the hills and\\nmountains slope are cool even in summer. This type of climatic condition is very\\nmuch comfortable and pleasant. People from different parts of the country wish\\nFigure 12.4: Major Hill stations in India'),\n",
       " Document(metadata={'source': 'tourism.pdf', 'page': 9, 'page_label': '10'}, page_content='TOURISM\\nMODULE – 4 Natural Tourist Attractions in India\\n 78\\nNatural Diversity as\\nTourist Attraction\\nNotes\\nto stay at the hill-stations for some days when the sun is very hot in the plains\\nand the plateau.\\n12.3.3 Adventure Tourism\\nAdventure tourism is one in which tourists are involved in some exploration of\\nless known areas or places particularly in a hostile environment. It can involve\\nsome degree of risk or physical damage to them. There are three types of\\nadventure tourism (i) Aerial adventure (ii) Water adventure and (iii) Land\\nadventure.\\nAerial adventure includes mainly parachuting and paragliding, water based\\nadventure tourism are rafting and water skiing. In India, land adventure is very\\npopular and includes rock climbing, angling, mountaineering, trekking, mountain\\nbiking, skiing etc. This type of tourism is more concentrated in the rugged\\nmountainous terrain. In India, these are more popular in the Himalayan and\\nplateau region.\\nTable 12.1 Details of Major Treks in India\\nName of the Treks Height Days Difficulty Level Suitable Period for\\n(meter) Trekking\\nMesmerising Markha V alley 5150 12-15 Moderate June to October\\nFrozen River Trek of Ladakh 3850 17-21 Extremely January to March\\nStrenuous\\nStriking S tok Kangri 6153 11-13 Easy June to October\\nGlorious Goecha La 4940 12-15 Moderate March to May\\nHoly Kinner Kailash Circuit 6500 12-16 Moderate to July to October\\nStrenuous\\nPin Parvati Valley (of Gods) 5319 13-17 Moderate to June to October\\nStrenuous\\nHemkund and V alley of Flowers 3853 9-13 Easy May to October\\nGangotri-Gaumukh-Tapoban 4463 9-13 Moderate May to October\\nBoundless Nanda Devi 4268 10-13 Moderate June to October\\nDodital – Mythological Lake 4150 6-8 M oderate May to October\\nMajestic Khatling Glaci er 4200 12-14 M oderate May to October\\nInexplicable Lake of Roopkund 5029 7-9 M oderate May to October\\nGarhwal Mountains-Kuari Pass 4575 9-12 Moderate A pril to mid-June\\nand August to\\nSeptember\\nPerfect Panchachuli Base Camp 4260 7-10 Moderate May to October\\nEngrossing Milan Glacier-Kumaon 4150 13-15 Moderate to June to October\\nStrenuous\\nSoft Adventure of Pindari Glacier 3990 11-13 Easy May to October\\nKafni Glacier-the Hidden Gem 3892 9-11 Easy May to October\\nPadam-Darcha - Adobe of Snow 4950 9-12 Easy June to October\\nHiking the Hemis-Nimaling 5270 8-10 Moderate June to October'),\n",
       " Document(metadata={'source': 'tourism.pdf', 'page': 10, 'page_label': '11'}, page_content='MODULE – 4\\n 79\\nNatural Tourist Attractions in India\\nTOURISM\\nNatural Diversity as\\nTourist Attraction\\nNotes\\nThe Table 12.1 shows places for trekking in the Himalayan region. Apart from\\nthem, there are many more other trekking routes in the Himalayas as well as\\nin the plateau areas.\\nAdventure tourism has been gaining popularity in the recent times. Many such\\nprogrammes have already been prepared while television channels like National\\nGeographic, National Geographic Wild, Animal Planet, Discovery, Discovery\\nScience etc. are making them popular.\\n12.3.4 Wildlife Sanctuaries and National Parks Tourism\\nA wildlife sanctuary is an area specially planned where any human interference\\nis banned. No one can hunt or shoot any of the animals in the area. Hence, it\\nis a protected area and effort is made to keep the surrounding in its original\\nstate. National parks are areas where native plants and animals and their habitats,\\nplaces of natural beauty, historic heritage and aboriginal cultural heritage are\\nprotected. Hence, both wildlife sanctuaries and national parks have great\\nimportance in maintaining the awareness about the natural habitat.\\nThe tourism activities are taken up in the wildlife sanctuaries and national parks.\\nIt gives an idea of their importance in our life. Though organisation of tours\\nwithin the pristine environment causes some ill-effect on the surrounding, still\\nthey create awareness about their importance.\\nThe wildlife sanctuaries and national parks are mostly associated with the rugged\\nterrain where there are more forested areas. They make 4.5 percent of total\\ngeographical area. The area is also less in demand because of the undulating\\ncharacter of the surface where agricultural activities are not well developed.\\nThere are 442 wildlife sanctuaries. Among them, there are 41 Tiger Reserve\\nForests. Some of the Wildlife Sanctuaries are developed for some special\\npurposes like Bird Sanctuary. National Parks are of greater importance at the\\nnational level. Today there are 102 National Parks encompassing 39,919 sq. km.\\nof area and many more are under the process of national recognition. Manas,\\nKanha, Ranthambore, Dudhwa, Bandhavgarh, Jim Corbett, Rajaji, Kaziranga are\\nall very favoured choice of tourist.\\n12.3.5 Beach Tourism\\nBeach is a land form found along the sea coast of an ocean or sea. It is usually\\nmade up of sand, particles, gravels, shingles and pebbles generated from the rock\\nfragments by wave erosion and deposition. Hence, beaches are typically\\ndeveloped in the areas along the coast where wave action deposits the eroded\\nmaterials. India has a sea coast of about 7000 km. This great length of sea coast\\nprovides beautiful beaches and a restful and quiet environment with abundant\\nnearby greenery, perfect to relax and refresh. It rejuvenates the body and mind'),\n",
       " Document(metadata={'source': 'tourism.pdf', 'page': 11, 'page_label': '12'}, page_content='TOURISM\\nMODULE – 4 Natural Tourist Attractions in India\\n 80\\nNatural Diversity as\\nTourist Attraction\\nNotes\\nof the visitors. Walking on the water soaked sandy beach along the blue clean\\nwater of the ocean generates romanticism. The unending site of the ocean water\\nhas a unique feeling of getting away from the earthly worries. The sunrise and\\nsunset are really beautiful to watch from the beach. The sea, sand and the sun\\nannihilate all worries. The locational advantage of beach attracts many tourists,\\nboth national and international.\\nThe important beaches of India can be seen in the figure 12.5.\\nFigure 12.5: Major Beaches in India.\\nACTIVITY 12.2\\nTake two outline maps of India. On one map, show the hill-stations of India.\\nBased on this map, try to find the answer of the following questions:\\na. What is the pattern you find on the map?'),\n",
       " Document(metadata={'source': 'tourism.pdf', 'page': 12, 'page_label': '13'}, page_content='MODULE – 4\\n 81\\nNatural Tourist Attractions in India\\nTOURISM\\nNatural Diversity as\\nTourist Attraction\\nNotes\\nb. Where are the most hill-stations located?\\nc. What are the reasons for concentration of hill-stations in the Himalayan\\nregion?\\nOn the other map, show the sea beaches of the country. What are the main\\nreasons for the growing popularity of tourism on beaches?\\nINTEXT QUESTIONS 12.2\\n1. Describe the major tourist circuits of India.\\n2. Name the major hill stations in northern India.\\n3. Explain three types of adventure tourism.\\n12.4 MOST POPULAR WILDLIFE SANCTUARIES IN INDIA\\nz Ranthambore Wildlife Sanctuary in Rajasthan is spread over 392 sq.kms\\nand located just 130 kms away from Jaipur. The deciduous forests of\\nRanthambore provide great opportunity to observe wildlife viewing of the\\ntiger. Tourists can spot other animals like sambar, chital and panthers. Early\\nmorning and late afternoon safaris take tourists to possible spots where tiger\\nand some of its cubs may cross their path.\\nz One of India’s prime destinations for spotting the wild at their natural habitat\\nis the Corbett National Park  located at the foothills of Himalayas in\\nUttarakhand. Rare flora and fauna make it the wildlife hub of India. Corbett\\nPark gives endless possibilities of interacting with the wild animals, so\\ntourists come and connect with these magnificent creatures and discover a\\nunique bond they share with nature.\\nz Sheltered in the Vindhya Ranges of Madhya Pradesh, the Bandhavgarh\\nNational Park was the original home of the precious white tigers where\\nthey were first sighted in Rewa. The lush greens of this wild paradise are\\nspread across 437 sq. kms of land. There is a lot for the wildlife enthusiasts\\nwho can look forward to. Nilgai, Chinkara and wild boars are amongst those\\neasily sighted. Spotting a fox could be tricky. Since the park boasts of a\\nhealthy population of tigers there are extremely favourable chances of seeing\\nthem.\\nz Perched high on the Western Ghats in God’s own country Kerala has the\\npicturesque Periyar National Park  and tiger reserve. The park is widely\\nknown for the large herds of Indian elephants which thrive on the Periyar\\nRiver nestled in the dense forests of the Cardamom Hills.'),\n",
       " Document(metadata={'source': 'tourism.pdf', 'page': 13, 'page_label': '14'}, page_content='TOURISM\\nMODULE – 4 Natural Tourist Attractions in India\\n 82\\nNatural Diversity as\\nTourist Attraction\\nNotes\\nz Kaziranga National Park in Assam is a haven for the wild. It is the habitat\\nof the one horned rhinoceros, a paradise for wild elephants and water\\nbuffalos, a prominent tiger reserve and a world heritage site. Hog deer, sloth\\nbears, capped langoors and some of the largest pythons in the world can\\nbe found here. One can probably see the Gigantic Dolphins when the rivers\\nare in spate.\\nz Enshrined in the swamped mangroves at the tip of Bengal is the kingdom\\nof Royal Bengal Tigers known as Sunderbans National Park. A UNESCO\\nWorld Heritage Site, the Sunderbans are spread over a massive area of 4264\\nsq kms, disappearing towards the south into the sea. The swamps help\\ntourists to locate the striped beasts seen resting in the estuarine mangroves,\\nescaping the scorching heat. Tourists can also see snakes, crocodiles, fishing\\ncats and other marine species.\\nz One of India’s best tiger reserves, the Kanha National Park is in the valleys\\nof Banjar and Halon in Madhya Pradesh. Wildlife lovers from all corners\\nof the world flock to Kanha to catch a glimpse of its tigers, spotted deer\\nand wolves.\\nz The Mudumalai National Park  is a passage to its neighbouring wildlife\\nreserves situated at the crossroads of Tamil Nadu, Kerala and Karnataka in\\nthe north west of the Nilgiri. It has a large variety of fauna and an interesting\\nmix of flora with tropical green forests in one corner and dry deciduous in\\nthe other. Tourists can enjoy exciting safari at Mudumalai. Animals found\\nhere are sambhar, chitales, wild boars, primates and elephants along with\\nthe exclusive tigers.\\nz The last preserve of the Asiatic Lion, Gir Wildlife Sanctuary is on the brink\\nof peninsular Gujarat in the south western belt of dry deciduous forests. One\\nof India’s prime wildlife attractions, Gir is a famous hub for the big cats,\\nwhich includes lions as well as leopards. In fact, Gir has the largest number\\nof leopards in the country. The sanctuary’s water are known to be infested\\nwith numerous crocodiles.\\nz Keoladeo is in Rajasthan and has many varieties of birds. Formerly a duck\\nhunting reserve of the Maharajas, it has now become one of the largest areas\\nfor migratory birds. Tourists enjoy the famous Siberian Crane, Warblers, and\\nBabblers, Red Kite, Vulture and Sociable Lapwing among others. Lush green\\nlands and lovely lakes, makes it a treat for tourists to see and enjoy.'),\n",
       " Document(metadata={'source': 'tourism.pdf', 'page': 14, 'page_label': '15'}, page_content='MODULE – 4\\n 83\\nNatural Tourist Attractions in India\\nTOURISM\\nNatural Diversity as\\nTourist Attraction\\nNotes\\n12.4.1 Famous Bird Sanctuaries of India : Home to over 1200 species of\\nbirds\\nIndia is a home for many species of local as well as migrant birds. Bird\\nsanctuaries in India are popular among bird watchers. Some of the local beautiful\\nbirds are Peacock, Great Indian Bustard, Indian Horn-bill, Kingfishers and\\nIndian Eagle “Garuda”, a Sacred Bird of Hindus. The Great Indian Horn-bill\\nis the largest amongst all the horn-bills found in the forests of India. Kulik\\n(Raiganj) Bird Sanctuary is one of the largest bird sanctuaries in Asia.\\nNawabganj is an ideal tourist destination for twitching and bird watching in\\nIndia. Twitching is referried to those who travel long distances to see rare birds.\\nz Bharatpur Bird Sanctuary in Rajasthan is one of the most famous bird\\nsanctuaries in India. It is also known as Keoladeo Ghana National Park.\\nThousands of rare and highly endangered birds come here during the winter\\nseason. During winter season it is the most wanted site by the bird watchers\\nwho flock over here to see some of the most exotic birds in the world.\\nz Sultanpur Bird Sanctuary is home for several colourful winged migratory\\nbird species who visited India from north of the Himalayas.\\nz The Salim Ali bird Sanctuary  is home to many varieties of local and\\nmigratory birds, situated in Chorao Island along the river Mondovi in Goa.\\nSparrows, beautiful peafowl, parrots, pelican, Indian giant squirrel and other\\nrare species of fauna can be spotted here.\\nz Kumarakom Bird Sanctuary also known as Vembanad bird sanctuary is\\nsituated in Kerala. It offers a home to a large number of migratory birds\\nlike flycatcher, teal, Siberian stork, crane, parrots and wood beetle. Riding\\non a houseboat is the best way for bird watching in Kerala. Other bird\\nsanctuaries in Kerala are Mangalavanam and Thattekkad bird sanctuaries,\\nsituated on the banks of the Periyar River and famous for some of the rarest\\nspecies of birds and other unique fauna.\\nz Ranganathittu Bird Sanctuary is situated on the banks of the Kaveri river\\nin Karnataka. The exotic migratory birds like light Ibis, egret, partridge,\\nheron, river tern, snake bird, and stone plougher are a major tourist\\nattraction. It is located about 20 kilometres from the famous Brindavan\\ngarden which lies adjoining the Krishnarajasagara dam.\\nz The Vedanthangal Bird Sanctuary  in Tamil Nadu is the oldest bird\\nsanctuary in India. The Vedanthangal lake region attracts a variety of birds\\nsuch as pintail, garganey, grey wagtail, blue-winged teal, common sandpiper.\\nOne sixth of landmass of Tamil Nadu is covered with forests, which is\\nparadise for animal lovers and bird watchers. Kunthakulam bird sanctuary'),\n",
       " Document(metadata={'source': 'tourism.pdf', 'page': 15, 'page_label': '16'}, page_content='TOURISM\\nMODULE – 4 Natural Tourist Attractions in India\\n 84\\nNatural Diversity as\\nTourist Attraction\\nNotes\\nand Pulicat lake bird sanctuary are also famous for bird watching situated\\non the border of Andhra Pradesh and Tamil Nadu.\\nz Kaundinya Bird Sanctuary  is one of the best bird sanctuaries in India,\\nsituated near Chittor in Andhra Pradesh. The habitat has rugged high hills\\nand deep valleys and Kaigal and Kaundinya are two beautiful streams, which\\nflow through the sanctuary. Kaundinya sanctuary offers the best of wildlife\\nand bird watching in India. Kolleru lake bird sanctuary also brings a variety\\nof migratory birds to its largest fresh water Kolleru Lake.\\nz Chilka Lake Bird sanctuary  located near Puri in Odisha is very popular\\namong tourists. It is the most beautiful brackish water lake in Asia and\\nfamous for a rich variety of birds. Chilka Lake serves as a bird sanctuary\\nand is the largest winter ground for migratory birds in India. It is also one\\nof the best bird watching spots in India.\\nz In Maharashtra Mayani Bird sanctuary,  attracts many migratory birds,\\nsuch as flamingos from Siberia which come in large numbers. It is one of\\nthe most prominent and famous bird sanctuaries in India.\\nz Nal Sarovar Bird Sanctuary comprising a huge lake and ambient marshes,\\nis situated in Ahmadabad, Gujarat. Nal Sarovar bird sanctuary is the largest\\nwetland bird sanctuary in India, where one can spot flamingos, pelicans,\\nspoonbills, avocets, coots, pintails, small cormorants, small grebes and\\nshovellers. It is one of the busiest tourist spots in India.\\n12.5 HILL STATIONS: NATURAL TOURIST ATTRACTIONS\\nPopular Hill Stations in India\\nz Shimla used to be the summer capital of the British when they ruled India.\\nNow it’s the state capital of Himachal Pradesh. It is a cool, charming town\\nenveloped by Oak, Pine and Rhododendron forests. It is famous for its\\ncolonial style buildings and historic railway. The old Christ Church, with its\\nbeautiful stained glass windows, mesmerizing views from scandal Point, and\\nthe Viceregal Lodge are the landmarks of this town. It is also interesting\\nto watch the sunrise and sunset from the Observatory Hill.\\nz Manali, with its soothing backdrop of the Himalayas, offers a blend of\\ntranquility and adventure that makes it one of northern India’s most popular\\ndestinations. Located in the Kullu Valley of Himachal Pradesh, it’s a magical\\nplace bordered by cool pine forests and the raging Beas river.\\nz Darjeeling, in West Bengal, is also famous for its lush tea gardens and for\\na stunning view of Mount Kanchenjunga, the world’s third highest peak. The\\ntown is dotted with monasteries, botanical gardens and a zoo. Darjeeling'),\n",
       " Document(metadata={'source': 'tourism.pdf', 'page': 16, 'page_label': '17'}, page_content='MODULE – 4\\n 85\\nNatural Tourist Attractions in India\\nTOURISM\\nNatural Diversity as\\nTourist Attraction\\nNotes\\nis a wonderful place to walk around, and explore the tea estates, villages,\\nand markets.\\nz The hill station of Nainital, in the Kumaon region of Uttarakhand, is a\\npopular summer retreat. It has the emerald coloured Naini Lake and many\\nforests. Long walks in the forests and boating in the Naini Lake are major\\ntourist attractions.\\nz Mussoorie, near Dehradun in Uttarakhand, is a popular weekend destination\\nfor North Indians. It has a lot of facilities developed especially for tourists.\\nCable car to Gun Hill, beautiful nature walk along Camel’s Back Road,\\nKempty Falls, or horse ride to Lal Tibba which is the highest peak in\\nMussoorie are beautiful places. The mighty Himalayas can also be seen from\\nhere.\\nz Srinagar, the summer capital of Jammu and Kashmir, has lovely lakes and\\nbeautiful houseboats and Shikaras. The gardens have a distinctly Mughal\\ninfluence, as they were created by the Mughal emperors. Srinagar also has\\nthe largest Tulip garden in Asia while adventure lovers come here for snow\\nskiing in winter.\\nz Munnar, in Kerala, is renowned for its sprawling tea plantations. The\\nKundale Tea Plantations, which surrounds a picturesque lake, offers the best\\nopportunity to see the tea being picked and processed. The area is blessed\\nwith the natural beauty of winding lanes, misty hills, and forests full of exotic\\nplants and wildlife. It is interesting to see enthusiasts trek to Anamudi, the\\nhighest peak in South India, explore Eravikulam National Park, or go rock\\nclimbing and paragliding. No wonder, tourists like to visit Munnar whenever\\nan opportunity comes their way.\\nz Ooty in Tamil Nadu is a soothing place to escape the summer heat for which\\nyou can take the scenic toy train from Metupalaiyam. Ooty’s most popular\\nattractions include the 22 hectare Government Botanical Gardens where a\\nflower show is held there every May as part of the Summer Festival, boating\\non Ooty Lake, and climbing Dodabetta Peak for an excellent view of the\\nNilgiri hills.\\nz Kodaikanal is nestled 120 kilometers from Madurai in the Palani Hills of\\nTamil Nadu. It has a large variety of flora and fauna. Over here, you can\\nsee orchards of pear trees, charming buildings with gabled roofs. Herbs and\\naromatherapy oils are some of the most interesting things to buy in\\nKodaikanal, with the eucalyptus oils being particularly popular.\\nz Mount Abu, situated at an altitude of 1220 m above the sea level is the\\nhighest point on the Aravalli Ranges. Mount Abu literally means the ‘Hill'),\n",
       " Document(metadata={'source': 'tourism.pdf', 'page': 17, 'page_label': '18'}, page_content='TOURISM\\nMODULE – 4 Natural Tourist Attractions in India\\n 86\\nNatural Diversity as\\nTourist Attraction\\nNotes\\nof Wisdom’ and is a green oasis located in the lush green-forested hills. It\\nis in direct contrast to the barren desert of Rajasthan and is the only hill\\nstation in Rajasthan.\\nIn Mount Abu you will see the Dilwara Jain Temples which are the best\\nexamples of Jain architecture in India. The interiors of the temple are\\nextravagantly carved on white marble. The Vimal Vasahi Temple and Tejpal\\nTemple are the most remarkable among all. This hill station is also very\\nfamous for its Nakki Lake. An ancient temple dedicated to goddess Durga,\\nAdhar Devi Temple, is located 3 kms to the north of Mount Abu. It is built\\nin a natural crack in a rock.\\nFigure 12.6: Mount Abu Hill Station\\nThe neighbouring areas of Mount Abu also have interesting tourist places like\\nthe Guru Shikhar (15 km), Achaleshwar Mahadev Temple (11 km), Mount Abu\\nWildlife Sanctuary (8 km), Brahma Kumaris Spiritual University and Museum.\\nMount Abu Wildlife Sanctuary is home to species of birds, panthers, sambhars\\nand wild boars.\\nz Khandala is a hill station in the Western Ghats in the state of Maharashtra.\\nIt is on the road link between the Deccan Plateau and the Konkan plain.\\nLonavala is set amongst the slopes of the Sahyadri mountain range and has\\nbecome famous because of nature’s gift of beautiful valleys, hills, milky\\nwaterfalls, lush greenery, and pleasant cool winds. Major attractions are\\nKune Falls, Tiger’s Leap, Duke’s Nose, Shivaji Park, Rajmachi Park,\\nRyewood, Lohagad Darshan and Amruntanjan point.'),\n",
       " Document(metadata={'source': 'tourism.pdf', 'page': 18, 'page_label': '19'}, page_content='MODULE – 4\\n 87\\nNatural Tourist Attractions in India\\nTOURISM\\nNatural Diversity as\\nTourist Attraction\\nNotes\\nTable 12.2 Some other Popular Hill Stations in India\\nState Where Hill Station\\nAndhra Pradesh Araku Valley Horsley Hills\\nGujarat Saputara W ilson Hills\\nHimachal Pradesh C hail Dharamsala, Dalhousie, Kasauli, Manali,\\nShimla, Kufri, Palampur\\nJammu & Kashmir Srinagar, Pahalgam, Gulmarg, Leh\\nKarnataka Kudremukh, Kemmangundi, Madikeri,\\nNandi Hills, Chikkamagaluru\\nKerala Munnar, Devikulam, Nelliampathi,\\nPonmudi, Vythiri, Vagamon\\nMadhya Pradesh Pachmarhi\\nMaharashtra Lonavla, Amboli, Chikhaldara, Khandala,\\nLavasa, Mahabaleshwar, Matheran,\\nPanchgani, Toranmal\\nMeghalaya Nohkalikai\\nOdisha Daringbadi\\nRajasthan Mount Abu\\nSikkim Gangtok, Pelling, Lachung\\nTamil Nadu Ooty, Coonoor, Kodaikanal\\nUttarakhand Nainital, Mussoorie, Almora, Auli, Kausani,\\nRanikhet\\nWest Bengal Kalimpong, Kurseong\\nFigure 12.7: A Hill Station'),\n",
       " Document(metadata={'source': 'tourism.pdf', 'page': 19, 'page_label': '20'}, page_content='TOURISM\\nMODULE – 4 Natural Tourist Attractions in India\\n 88\\nNatural Diversity as\\nTourist Attraction\\nNotes\\nFigure 12.8: Hill Stations in India\\nINTEXT QUESTIONS 12.3\\n1. Define Wildlife Sanctuary and Bird Sanctuary.\\n2. Why do tourists visit Wildlife and Bird Sanctuaries?\\n3. Why is Nal Sarovar Bird Sanctuary famous?'),\n",
       " Document(metadata={'source': 'tourism.pdf', 'page': 20, 'page_label': '21'}, page_content='MODULE – 4\\n 89\\nNatural Tourist Attractions in India\\nTOURISM\\nNatural Diversity as\\nTourist Attraction\\nNotes\\n WHAT YOU HA VE LEARNT\\nz India is divided into four major physiographic divisions. They are (a)\\nNorthern Mountains, (b) Great Northern Plains, (c) Peninsular Plateau and\\n(d) Coastal Plains and Islands. All of them are very important for tourism\\nperspectives.\\nz They provide great diversity in the country. The diversity may be seen as\\nmajor attractions for tourism.\\nz The diversity is in terms of physiography, climate, culture and tradition,\\nhistorical and cultural heritage. In fact, the greater diversity of the country\\nprovides immense opportunities for tourists to visit different places.\\nz Some areas are very suitable for scenic beauty and good for adventure\\ntourism.\\nz Nature tourism is also very popular. One example may be the Himalayas.\\nThe desert of Rajasthan is also very rich in culture and tradition.\\nz The coastal area is very rich in beach tourism. Tourists from the country\\nand outside the country prefer to visit. In the same way the islands are also\\nvery popular.\\nz The hills and the slope of the Himalayas are also great in demand as hill-\\nstations. Therefore, the greater diversity of the country provides greater\\nopportunity for tourism. Hence, the proper accelerating policy of the\\ngovernment is encouraging tourism greatly in the country.\\nTERMINAL EXERCISE\\n1. Describe the different geographic regions of India.\\n2. How physiography of India promotes the tourism activities?\\n3. Write an account on tourist centers in India.\\nANSWER TO INTEXT QUESTIONS\\n12.1\\n1 Deccan plateau is divided into three parts, Deccan Trap, Western Ghats and\\nEastern Ghats.'),\n",
       " Document(metadata={'source': 'tourism.pdf', 'page': 21, 'page_label': '22'}, page_content='TOURISM\\nMODULE – 4 Natural Tourist Attractions in India\\n 90\\nNatural Diversity as\\nTourist Attraction\\nNotes\\nIt covers an area of 7 lakhs 59 km. Its average height ranges from 500 meter\\nto 1000 meter.\\n2. The Western Ghats\\n3. Andaman Nicobar is rocky whereas Lakshadweep is made up of coral.\\nAndaman has large sized islands with big numbers whereas Lakshadweep\\nislands are smaller in size and less numbers.\\n12.2\\n1. There are many tourist circuits in India. The tourists used to visit the places\\nin the routes. Those places are very important in terms of tourism. They\\nare made/ organized by tour operators. Because of their greater demand?\\n2. There are many hill stations in north India. Important among them are: –\\nShimla, Kullu, Manali, Mussoorie, Nanital, Darjeeling, Mt. Abu, Dharamshala.\\n3. Three types – Aerial, Water and Land\\n(a) Arial Adventure tourism – Parachuting and Paragliding\\n(b) Water Adventure tourism – Rafting and water skiing\\n(c) Land Adventure tourism – Rock climbing and angling\\n12.3\\n1. Wildlife Sanctuary is a planned area for preservation of wildlife from human\\ninterference. Bird Sanctuary is a special type of wildlife sanctuary for\\nconservation of variety of bird species in their natural habitat.\\n2. Tourists are keen to visit the natural behaviour of the animals and birds.\\n3. Nal Sarovar Bird Sanctuary is famous because it is the largest wetland bird\\nsanctuary and busiest tourist spot in India.')]"
      ]
     },
     "execution_count": 13,
     "metadata": {},
     "output_type": "execute_result"
    }
   ],
   "source": [
    "from langchain_community.document_loaders import PyPDFLoader\n",
    "loader = PyPDFLoader(\"tourism.pdf\")\n",
    "docs = loader.load()\n",
    "docs"
   ]
  },
  {
   "cell_type": "code",
   "execution_count": 14,
   "metadata": {},
   "outputs": [
    {
     "name": "stdout",
     "output_type": "stream",
     "text": [
      "Embedding complete!\n"
     ]
    }
   ],
   "source": [
    "from langchain_community.embeddings import HuggingFaceEmbeddings\n",
    "## FAISS Vector Database\n",
    "from langchain_community.vectorstores import FAISS\n",
    "\n",
    "\n",
    "# Use Hugging Face embeddings\n",
    "embeddings = HuggingFaceEmbeddings(model_name=\"sentence-transformers/all-MiniLM-L6-v2\")\n",
    "\n",
    "db_f = FAISS.from_documents(docs[:15], embeddings)\n",
    "\n",
    "print(\"Embedding complete!\")"
   ]
  },
  {
   "cell_type": "code",
   "execution_count": 15,
   "metadata": {},
   "outputs": [
    {
     "data": {
      "text/plain": [
       "'MODULE – 4\\n 71\\nNatural Tourist Attractions in India\\nTOURISM\\nNatural Diversity as\\nTourist Attraction\\nNotes\\nFigure 12.1: Physical Features of India\\nThe British rulers in India developed some of these hill stations to escape the\\nheat of the summer seasons. These hill stations are very much in demand even\\ntoday, particularly in the summer season, to get respite from the scorching heat\\nof the sun in the plains and plateau region of the country.\\nOuter Himalaya or the Siwalik: They are the southern most range of the\\nmountains and are popularly known as the foothills of the Himalayas. Its altitude\\nvaries from 900 to 1500 meter and its width from 15 to 50 km. They are the\\nnewly formed ranges of the Himalayas. To the south of this range are the great\\nplains of North India. The adjoining land between plains and the mountains is\\nknown as the Terai region. It has very dense vegetation which is deciduous in\\nnature and is characterized by many long, flat-bottomed valleys known as Duns,\\nfor example Dehra Dun.'"
      ]
     },
     "execution_count": 15,
     "metadata": {},
     "output_type": "execute_result"
    }
   ],
   "source": [
    "query=\"places in deccan plateau\"\n",
    "result=db_f.similarity_search(query)\n",
    "result[0].page_content"
   ]
  },
  {
   "cell_type": "code",
   "execution_count": 16,
   "metadata": {},
   "outputs": [
    {
     "data": {
      "text/plain": [
       "Ollama(model='mistral')"
      ]
     },
     "execution_count": 16,
     "metadata": {},
     "output_type": "execute_result"
    }
   ],
   "source": [
    "from langchain_community.llms import Ollama\n",
    "## Load Ollama LAMA2 LLM model\n",
    "llm=Ollama(model=\"mistral\")\n",
    "llm"
   ]
  },
  {
   "cell_type": "code",
   "execution_count": 17,
   "metadata": {},
   "outputs": [],
   "source": [
    "## Design ChatPrompt Template\n",
    "from langchain_core.prompts import ChatPromptTemplate\n",
    "prompt = ChatPromptTemplate.from_template(\"\"\"Hey there! I need your help answering a question based only on the provided context. Please carefully analyze the information step by step before providing a clear and well-structured response. Stick strictly to the given details—no outside knowledge!\n",
    "\n",
    "Here's the context you should use:\n",
    "<context>\n",
    "{context}\n",
    "</context>\n",
    "\n",
    "Now, here's the question:\n",
    "{input}\n",
    "\n",
    "Take your time and ensure the answer is as accurate and helpful as possible!\"\"\")"
   ]
  },
  {
   "cell_type": "code",
   "execution_count": 18,
   "metadata": {},
   "outputs": [],
   "source": [
    "## Chain Introduction\n",
    "## Create Stuff Docment Chain\n",
    "\n",
    "from langchain.chains.combine_documents import create_stuff_documents_chain\n",
    "\n",
    "document_chain=create_stuff_documents_chain(llm,prompt)"
   ]
  },
  {
   "cell_type": "code",
   "execution_count": 19,
   "metadata": {},
   "outputs": [
    {
     "data": {
      "text/plain": [
       "VectorStoreRetriever(tags=['FAISS', 'HuggingFaceEmbeddings'], vectorstore=<langchain_community.vectorstores.faiss.FAISS object at 0x78f85cf6ff80>, search_kwargs={})"
      ]
     },
     "execution_count": 19,
     "metadata": {},
     "output_type": "execute_result"
    }
   ],
   "source": [
    "\"\"\"\n",
    "Retrievers: A retriever is an interface that returns documents given\n",
    " an unstructured query. It is more general than a vector store.\n",
    " A retriever does not need to be able to store documents, only to \n",
    " return (or retrieve) them. Vector stores can be used as the backbone\n",
    " of a retriever, but there are other types of retrievers as well. \n",
    " https://python.langchain.com/docs/modules/data_connection/retrievers/   \n",
    "\"\"\"\n",
    "retriever=db_f.as_retriever()\n",
    "retriever"
   ]
  },
  {
   "cell_type": "code",
   "execution_count": 20,
   "metadata": {},
   "outputs": [],
   "source": [
    "\"\"\"\n",
    "Retrieval chain:This chain takes in a user inquiry, which is then\n",
    "passed to the retriever to fetch relevant documents. Those documents \n",
    "(and original inputs) are then passed to an LLM to generate a response\n",
    "https://python.langchain.com/docs/modules/chains/\n",
    "\"\"\"\n",
    "\n",
    "from langchain.chains import create_retrieval_chain\n",
    "retrieval_chain=create_retrieval_chain(retriever,document_chain)"
   ]
  },
  {
   "cell_type": "code",
   "execution_count": 24,
   "metadata": {},
   "outputs": [],
   "source": [
    "response=retrieval_chain.invoke({\"input\":\"Where is Mount Abu situated and places to visit\"})"
   ]
  },
  {
   "cell_type": "code",
   "execution_count": 25,
   "metadata": {},
   "outputs": [
    {
     "data": {
      "text/plain": [
       "\" Mount Abu is located in the Aravalli Range of Rajasthan, in western India. It serves as a popular hill station due to its cooler climate compared to the surrounding plains. Here are some places to visit when you're there:\\n\\n1. Nakki Lake: This artificial lake is one of the primary attractions at Mount Abu, and it offers boat rides to visitors. You can also find shopping centers around the lake that sell local handicrafts, jewelry, and other items.\\n2. Dilwara Temples: Located 2.5 km from Nakki Lake, these beautiful Jain temples date back to the 11th and 13th centuries. Their intricate marble carvings make them a must-visit site for anyone touring Mount Abu.\\n3. Sunset Point: As the name suggests, Sunset Point offers stunning sunset views over the surrounding valleys. It's one of the best places to enjoy the natural beauty of Mount Abu during the evening hours.\\n4. Guru Shikhar: At an elevation of 1,722 meters (5,680 feet), Guru Shikhar is the highest peak in the Aravalli Range. It offers panoramic views of the landscape and is a popular spot for trekking and photography enthusiasts.\\n5. Toad Rock: This rock formation resembles a toad, hence its name. While it's not as tall or imposing as some other attractions at Mount Abu, it makes for an interesting photographic opportunity.\""
      ]
     },
     "execution_count": 25,
     "metadata": {},
     "output_type": "execute_result"
    }
   ],
   "source": [
    "response['answer']"
   ]
  },
  {
   "cell_type": "code",
   "execution_count": null,
   "metadata": {},
   "outputs": [],
   "source": []
  }
 ],
 "metadata": {
  "kernelspec": {
   "display_name": "venv",
   "language": "python",
   "name": "python3"
  },
  "language_info": {
   "codemirror_mode": {
    "name": "ipython",
    "version": 3
   },
   "file_extension": ".py",
   "mimetype": "text/x-python",
   "name": "python",
   "nbconvert_exporter": "python",
   "pygments_lexer": "ipython3",
   "version": "3.12.4"
  }
 },
 "nbformat": 4,
 "nbformat_minor": 2
}
